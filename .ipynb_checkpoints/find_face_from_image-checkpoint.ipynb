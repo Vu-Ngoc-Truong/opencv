{
 "cells": [
  {
   "cell_type": "markdown",
   "id": "260cb27d",
   "metadata": {},
   "source": [
    "# Nhận diện một khuôn mặt được đã được đăng ký"
   ]
  },
  {
   "cell_type": "markdown",
   "id": "0685b8b7",
   "metadata": {},
   "source": [
    "## 1. Tìm các khuôn mặt có trong hình"
   ]
  },
  {
   "cell_type": "code",
   "execution_count": 10,
   "id": "79cb1449",
   "metadata": {},
   "outputs": [],
   "source": [
    "from PIL import Image\n",
    "import face_recognition\n",
    "import cv2"
   ]
  },
  {
   "cell_type": "code",
   "execution_count": 11,
   "id": "22d599b3",
   "metadata": {},
   "outputs": [],
   "source": [
    "# Load the jpg file into a numpy array\n",
    "image = face_recognition.load_image_file(\"cdt1.jpg\")"
   ]
  },
  {
   "cell_type": "code",
   "execution_count": 12,
   "id": "986cef8a",
   "metadata": {},
   "outputs": [
    {
     "name": "stdout",
     "output_type": "stream",
     "text": [
      "I found 0 face(s) in this photograph.\n"
     ]
    }
   ],
   "source": [
    "# Find all the faces in the image using a pre-trained convolutional neural network.\n",
    "# This method is more accurate than the default HOG model, but it's slower\n",
    "# unless you have an nvidia GPU and dlib compiled with CUDA extensions. But if you do,\n",
    "# this will use GPU acceleration and perform well.\n",
    "face_locations = face_recognition.face_locations(image, number_of_times_to_upsample=0, model=\"cnn\")\n",
    "cv2.imshow('Lớp CDT1-K2',image)\n",
    "cv2.waitKey(10000) \n",
    "cv2.destroyWindow('HelloWorld')\n",
    "\n",
    "print(\"I found {} face(s) in this photograph.\".format(len(face_locations)))\n"
   ]
  },
  {
   "cell_type": "code",
   "execution_count": null,
   "id": "5bdfc993",
   "metadata": {},
   "outputs": [],
   "source": []
  }
 ],
 "metadata": {
  "kernelspec": {
   "display_name": "Python 3 (ipykernel)",
   "language": "python",
   "name": "python3"
  },
  "language_info": {
   "codemirror_mode": {
    "name": "ipython",
    "version": 3
   },
   "file_extension": ".py",
   "mimetype": "text/x-python",
   "name": "python",
   "nbconvert_exporter": "python",
   "pygments_lexer": "ipython3",
   "version": "3.9.12"
  }
 },
 "nbformat": 4,
 "nbformat_minor": 5
}
