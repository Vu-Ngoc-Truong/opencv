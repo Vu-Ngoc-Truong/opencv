{
 "cells": [
  {
   "cell_type": "markdown",
   "id": "16985a05",
   "metadata": {},
   "source": [
    "# This is basic example for opencv library"
   ]
  },
  {
   "cell_type": "code",
   "execution_count": 6,
   "id": "a401cfd7",
   "metadata": {},
   "outputs": [],
   "source": [
    "from IPython.core.interactiveshell import InteractiveShell\n",
    "InteractiveShell.ast_node_interactivity = \"all\""
   ]
  },
  {
   "cell_type": "code",
   "execution_count": 7,
   "id": "f88c7175",
   "metadata": {},
   "outputs": [
    {
     "name": "stdout",
     "output_type": "stream",
     "text": [
      "4.5.5\n",
      "Hello\n"
     ]
    }
   ],
   "source": [
    "import cv2\n",
    "print(cv2.__version__)\n",
    "# print(\"Hello\")"
   ]
  },
  {
   "cell_type": "code",
   "execution_count": null,
   "id": "82295be2",
   "metadata": {},
   "outputs": [],
   "source": [
    "import face_recognition\n",
    "print(face_recognition.__version__)"
   ]
  },
  {
   "cell_type": "code",
   "execution_count": 8,
   "id": "a1e555f2",
   "metadata": {},
   "outputs": [],
   "source": [
    "image = face_recognition.load_image_file(\"elon.png\")\n",
    "face_locations = face_recognition.face_locations(image)\n",
    "print(face_locations)\n",
    "\n",
    "# face_locations is now an array listing the co-ordinates of each face!"
   ]
  },
  {
   "cell_type": "code",
   "execution_count": 9,
   "id": "38f4397f",
   "metadata": {
    "scrolled": true
   },
   "outputs": [],
   "source": [
    "img = cv2.imread('elon.png')\n",
    "img_gray = cv2.imread('elon.png', cv2.IMREAD_GRAYSCALE)"
   ]
  },
  {
   "cell_type": "code",
   "execution_count": 10,
   "id": "47465c1b",
   "metadata": {},
   "outputs": [
    {
     "name": "stdout",
     "output_type": "stream",
     "text": [
      "R=31, G=0, B=81\n",
      "65\n"
     ]
    }
   ],
   "source": [
    "(B, G, R) = img[200, 150]\n",
    "print(\"R={}, G={}, B={}\".format(R, G, B))\n",
    "print( img_gray[150, 150])\n",
    "# print(\"R={}, G={}, B={}\".format(b, g, r))"
   ]
  },
  {
   "cell_type": "code",
   "execution_count": 11,
   "id": "07332798",
   "metadata": {},
   "outputs": [
    {
     "name": "stdout",
     "output_type": "stream",
     "text": [
      "show img\n"
     ]
    },
    {
     "data": {
      "text/plain": [
       "-1"
      ]
     },
     "execution_count": 11,
     "metadata": {},
     "output_type": "execute_result"
    },
    {
     "name": "stdout",
     "output_type": "stream",
     "text": [
      "end\n"
     ]
    }
   ],
   "source": [
    "# cv2.imshow('Display Image', img_gray)\n",
    "# cv2.imshow('abc',img)\n",
    "print(\"show img\")\n",
    "cv2.waitKey(10000)\n",
    "print(\"end\")"
   ]
  },
  {
   "cell_type": "code",
   "execution_count": null,
   "id": "97c566e6",
   "metadata": {},
   "outputs": [],
   "source": []
  }
 ],
 "metadata": {
  "kernelspec": {
   "display_name": "Python 3 (ipykernel)",
   "language": "python",
   "name": "python3"
  },
  "language_info": {
   "codemirror_mode": {
    "name": "ipython",
    "version": 3
   },
   "file_extension": ".py",
   "mimetype": "text/x-python",
   "name": "python",
   "nbconvert_exporter": "python",
   "pygments_lexer": "ipython3",
   "version": "3.9.12"
  }
 },
 "nbformat": 4,
 "nbformat_minor": 5
}
