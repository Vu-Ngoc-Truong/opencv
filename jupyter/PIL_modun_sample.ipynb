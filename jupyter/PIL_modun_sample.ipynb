{
 "cells": [
  {
   "cell_type": "markdown",
   "id": "09fb2279",
   "metadata": {},
   "source": [
    "# PIL modun :  Python Image Library"
   ]
  },
  {
   "cell_type": "code",
   "execution_count": 1,
   "id": "1c1cd2b0",
   "metadata": {},
   "outputs": [],
   "source": [
    "from PIL import Image, ImageFilter  # Import classes from the library.\n"
   ]
  },
  {
   "cell_type": "code",
   "execution_count": 1,
   "id": "4d71093e",
   "metadata": {},
   "outputs": [
    {
     "ename": "NameError",
     "evalue": "name 'Image' is not defined",
     "output_type": "error",
     "traceback": [
      "\u001b[0;31m---------------------------------------------------------------------------\u001b[0m",
      "\u001b[0;31mNameError\u001b[0m                                 Traceback (most recent call last)",
      "\u001b[1;32m/home/ngoctruong/my_code_ws/Python/library_basic/opencv/PIL_modun_sample.ipynb Cell 3'\u001b[0m in \u001b[0;36m<cell line: 1>\u001b[0;34m()\u001b[0m\n\u001b[0;32m----> <a href='vscode-notebook-cell:/home/ngoctruong/my_code_ws/Python/library_basic/opencv/PIL_modun_sample.ipynb#ch0000002?line=0'>1</a>\u001b[0m original_image \u001b[39m=\u001b[39m Image\u001b[39m.\u001b[39mopen(\u001b[39m\"\u001b[39m\u001b[39melon.png\u001b[39m\u001b[39m\"\u001b[39m) \u001b[39m# Load an image from the file system.\u001b[39;00m\n\u001b[1;32m      <a href='vscode-notebook-cell:/home/ngoctruong/my_code_ws/Python/library_basic/opencv/PIL_modun_sample.ipynb#ch0000002?line=1'>2</a>\u001b[0m blurred_image \u001b[39m=\u001b[39m original_image\u001b[39m.\u001b[39mfilter(ImageFilter\u001b[39m.\u001b[39mBLUR)\n",
      "\u001b[0;31mNameError\u001b[0m: name 'Image' is not defined"
     ]
    }
   ],
   "source": [
    "original_image = Image.open(\"elon.png\") # Load an image from the file system.\n",
    "blurred_image = original_image.filter(ImageFilter.BLUR) # Blur the image.\n"
   ]
  },
  {
   "cell_type": "code",
   "execution_count": 3,
   "id": "f17d7f23",
   "metadata": {},
   "outputs": [],
   "source": [
    "# Display both images.\n",
    "original_image.show() \n",
    "blurred_image.show()"
   ]
  },
  {
   "cell_type": "code",
   "execution_count": 6,
   "id": "2d0f2593",
   "metadata": {},
   "outputs": [],
   "source": [
    "rotated_image = original_image.rotate(90) # Rotate the image by 180 degrees.\n",
    "# rotated_image.save(\"elon_rotated.png\") # Save the rotated image.\n",
    "rotated_image.show()\n"
   ]
  },
  {
   "cell_type": "code",
   "execution_count": null,
   "id": "fac8f9ae",
   "metadata": {},
   "outputs": [],
   "source": []
  }
 ],
 "metadata": {
  "interpreter": {
   "hash": "0b68c9d60b3a51b16f5440ece2d4b1473a91a3ca255fa1a7483632bc02533fb8"
  },
  "kernelspec": {
   "display_name": "Python 3.9.12 ('base': conda)",
   "language": "python",
   "name": "python3"
  },
  "language_info": {
   "codemirror_mode": {
    "name": "ipython",
    "version": 3
   },
   "file_extension": ".py",
   "mimetype": "text/x-python",
   "name": "python",
   "nbconvert_exporter": "python",
   "pygments_lexer": "ipython3",
   "version": "3.9.12"
  }
 },
 "nbformat": 4,
 "nbformat_minor": 5
}
